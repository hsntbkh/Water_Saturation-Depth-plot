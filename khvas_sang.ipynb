{
 "cells": [
  {
   "cell_type": "markdown",
   "metadata": {},
   "source": [
    "Import libraries"
   ]
  },
  {
   "cell_type": "code",
   "execution_count": null,
   "metadata": {},
   "outputs": [],
   "source": [
    "import numpy as np\n",
    "import pandas as pd\n",
    "import matplotlib.pyplot as plt\n",
    "from gplearn.genetic import SymbolicRegressor\n",
    "import pickle\n",
    "from sklearn.metrics import r2_score"
   ]
  },
  {
   "cell_type": "markdown",
   "metadata": {},
   "source": [
    "Functions definition"
   ]
  },
  {
   "cell_type": "code",
   "execution_count": 11,
   "metadata": {},
   "outputs": [],
   "source": [
    "def get_data(input_text, error_text):\n",
    "    while True:\n",
    "        try:\n",
    "            c = input(input_text + ' ')\n",
    "            if c=='':\n",
    "                return c\n",
    "            c= float(c)\n",
    "            return c\n",
    "        except ValueError:\n",
    "            print(error_text)"
   ]
  },
  {
   "cell_type": "markdown",
   "metadata": {},
   "source": [
    "Create data or import data"
   ]
  },
  {
   "cell_type": "code",
   "execution_count": null,
   "metadata": {},
   "outputs": [],
   "source": [
    "i=0\n",
    "x_array= []\n",
    "y_array= []\n",
    "\n",
    "while True:\n",
    "    i+= 1\n",
    "    ix= get_data(f'X{i}: (If finished press ENTER)', 'Error! (please inter number)')\n",
    "    if ix=='':\n",
    "        break\n",
    "    iy= get_data(f'y{i}:', 'Error! (please inter number)')\n",
    "    x_array.append(ix)\n",
    "    y_array.append(iy)\n",
    "\n",
    "for i in range(len(x_array)):\n",
    "    x_array[i]= int(x_array[i])\n",
    "    y_array[i]= int(y_array[i])\n",
    "\n",
    "x = np.array(x_array)\n",
    "y = np.array(y_array)\n",
    "df = pd.DataFrame({'x': x, 'y': y})"
   ]
  },
  {
   "cell_type": "markdown",
   "metadata": {},
   "source": [
    "Drow plot"
   ]
  },
  {
   "cell_type": "code",
   "execution_count": null,
   "metadata": {},
   "outputs": [],
   "source": [
    "plt.plot(x, y, color=\"blue\", label=\"Data points\")\n",
    "plt.xlabel('Water Saturation')\n",
    "plt.ylabel('Depth')\n",
    "plt.show"
   ]
  },
  {
   "cell_type": "markdown",
   "metadata": {},
   "source": [
    "choose range & create end data"
   ]
  },
  {
   "cell_type": "code",
   "execution_count": 4,
   "metadata": {},
   "outputs": [],
   "source": [
    "range_min = int(input('inter minimum: '))\n",
    "range_max = int(input('inter maximum: ')) + 1\n",
    "dftest = []\n",
    "\n",
    "for i in range(range_min, range_max):\n",
    "    dftest.append(i)\n",
    "    \n",
    "dftestpd = pd.DataFrame({'x' : dftest})"
   ]
  },
  {
   "cell_type": "markdown",
   "metadata": {},
   "source": [
    "Train & save model\n",
    "    -Run this section to train data and save best model."
   ]
  },
  {
   "cell_type": "code",
   "execution_count": 43,
   "metadata": {},
   "outputs": [],
   "source": [
    "r2=0\n",
    "r2_old= 0\n",
    "n=0\n",
    "x_ = df[\"x\"].values.reshape(-1,1)\n",
    "y_ = df[\"y\"].values\n",
    "\n",
    "while r2 <=0.995:\n",
    "    test_model= SymbolicRegressor(population_size=1000, generations=20, function_set=[\"add\", \"sub\", \"mul\", \"div\"], metric=\"rmse\")\n",
    "    test_model.fit(x_, y_)\n",
    "\n",
    "    y_test= test_model.predict(pd.DataFrame({'x': x}))\n",
    "    r2= r2_score(y_true=y, y_pred=y_test)\n",
    "    if r2 > r2_old:\n",
    "        with open(\"model/model.pkl\", \"wb\") as file:\n",
    "            dump(test_model, file)\n",
    "        model = test_model\n",
    "    r2_old= r2\n",
    "    \n",
    "    n+=1\n",
    "    print(f'round:{n}\\nR2: {r2}\\n' + ('-'*40))\n",
    "    if n==20:\n",
    "        break"
   ]
  },
  {
   "cell_type": "markdown",
   "metadata": {},
   "source": [
    "Load model\n",
    "    -Run this section to load trained data."
   ]
  },
  {
   "cell_type": "code",
   "execution_count": 6,
   "metadata": {},
   "outputs": [],
   "source": [
    "with open(\"best_model.pkl\", \"rb\") as file:\n",
    "    model = pickle.load(file)"
   ]
  },
  {
   "cell_type": "markdown",
   "metadata": {},
   "source": [
    "Predict data"
   ]
  },
  {
   "cell_type": "code",
   "execution_count": 7,
   "metadata": {},
   "outputs": [],
   "source": [
    "y_pred = model.predict(dftestpd)"
   ]
  },
  {
   "cell_type": "markdown",
   "metadata": {},
   "source": [
    "Show end plot"
   ]
  },
  {
   "cell_type": "code",
   "execution_count": null,
   "metadata": {},
   "outputs": [],
   "source": [
    "plt.scatter(x, y, color=\"blue\", label=\"Data points\")\n",
    "plt.plot(dftestpd, y_pred, color=\"red\")\n",
    "\n",
    "plt.xlabel('Water Saturation')\n",
    "plt.ylabel('Depth')\n",
    "plt.show"
   ]
  },
  {
   "cell_type": "markdown",
   "metadata": {},
   "source": [
    "Calculate R2 score"
   ]
  },
  {
   "cell_type": "code",
   "execution_count": null,
   "metadata": {},
   "outputs": [],
   "source": [
    "y_test= model.predict(pd.DataFrame({'x': x}))\n",
    "\n",
    "f'R2: {r2_score(y_true=y, y_pred=y_test)}'"
   ]
  }
 ],
 "metadata": {
  "kernelspec": {
   "display_name": "Python 3",
   "language": "python",
   "name": "python3"
  },
  "language_info": {
   "codemirror_mode": {
    "name": "ipython",
    "version": 3
   },
   "file_extension": ".py",
   "mimetype": "text/x-python",
   "name": "python",
   "nbconvert_exporter": "python",
   "pygments_lexer": "ipython3",
   "version": "3.11.7"
  }
 },
 "nbformat": 4,
 "nbformat_minor": 2
}
