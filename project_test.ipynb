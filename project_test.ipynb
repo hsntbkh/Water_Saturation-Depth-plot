{
 "cells": [
  {
   "cell_type": "markdown",
   "metadata": {},
   "source": [
    "Import library"
   ]
  },
  {
   "cell_type": "code",
   "execution_count": null,
   "metadata": {},
   "outputs": [],
   "source": [
    "import numpy as np\n",
    "import pandas as pd\n",
    "import os\n",
    "import matplotlib.pyplot as plt\n",
    "from gplearn.genetic import SymbolicRegressor\n",
    "from pickle import dump, load\n",
    "from sklearn.metrics import r2_score"
   ]
  },
  {
   "cell_type": "markdown",
   "metadata": {},
   "source": [
    "Create data or import data"
   ]
  },
  {
   "cell_type": "code",
   "execution_count": null,
   "metadata": {},
   "outputs": [],
   "source": [
    "x = np.array([23, 30, 40, 60, 70, 80, 90, 100])\n",
    "y = np.array([25, 20, 15, 7, 4, 3, 1.5, 0])\n",
    "df = pd.DataFrame({'x': x, 'y': y})"
   ]
  },
  {
   "cell_type": "markdown",
   "metadata": {},
   "source": [
    "Drow plot"
   ]
  },
  {
   "cell_type": "code",
   "execution_count": null,
   "metadata": {},
   "outputs": [],
   "source": [
    "plt.plot(x, y, color=\"blue\")\n",
    "plt.xlabel('Water Saturation')\n",
    "plt.ylabel('Depth')\n",
    "plt.show"
   ]
  },
  {
   "cell_type": "markdown",
   "metadata": {},
   "source": [
    "choose range & create end data"
   ]
  },
  {
   "cell_type": "code",
   "execution_count": null,
   "metadata": {},
   "outputs": [],
   "source": [
    "range_min, range_max= 23, 101\n",
    "dftest = []\n",
    "\n",
    "for i in range(range_min, range_max):\n",
    "    dftest.append(i)\n",
    "    \n",
    "dftestpd = pd.DataFrame({'x' : dftest})"
   ]
  },
  {
   "cell_type": "markdown",
   "metadata": {},
   "source": [
    "Train & save model"
   ]
  },
  {
   "cell_type": "code",
   "execution_count": null,
   "metadata": {},
   "outputs": [],
   "source": [
    "r2, r2_old, n=0, 0, 0\n",
    "x_ = df[\"x\"].values.reshape(-1,1)\n",
    "y_ = df[\"y\"].values\n",
    "\n",
    "while r2 <=0.997:\n",
    "    #create and fit model\n",
    "    test_model= SymbolicRegressor(population_size=1000, generations=20, function_set=[\"add\", \"sub\", \"mul\", \"div\"], metric=\"rmse\")\n",
    "    test_model.fit(x_, y_)\n",
    "\n",
    "    #pledect and calculate r2\n",
    "    y_test= test_model.predict(pd.DataFrame({'x': x}))\n",
    "    r2= r2_score(y_true=y, y_pred=y_test)\n",
    "    if r2 > r2_old:\n",
    "\n",
    "        #check folder\n",
    "        if n==0:\n",
    "            path= 'model'\n",
    "            if not os.path.exists(path):\n",
    "                os.mkdir(path)\n",
    "            else:\n",
    "                print(\"The folder already exists.\")\n",
    "\n",
    "        #create and save model in file\n",
    "        with open(\"model/model.pkl\", \"wb\") as file:\n",
    "            dump(test_model, file)\n",
    "        model = test_model\n",
    "    r2_old= r2\n",
    "    \n",
    "    n+=1\n",
    "    print(f'round:{n}\\nR2: {round(r2, 3)}\\n' + ('-'*40))\n",
    "    if n==20:\n",
    "        break"
   ]
  },
  {
   "cell_type": "markdown",
   "metadata": {},
   "source": [
    "Load model"
   ]
  },
  {
   "cell_type": "code",
   "execution_count": null,
   "metadata": {},
   "outputs": [],
   "source": [
    "with open(\"exmple_model (2).pkl\", \"rb\") as file:\n",
    "    model = load(file)"
   ]
  },
  {
   "cell_type": "markdown",
   "metadata": {},
   "source": [
    "Predict data"
   ]
  },
  {
   "cell_type": "code",
   "execution_count": null,
   "metadata": {},
   "outputs": [],
   "source": [
    "y_pred = model.predict(dftestpd)"
   ]
  },
  {
   "cell_type": "markdown",
   "metadata": {},
   "source": [
    "Show end plot"
   ]
  },
  {
   "cell_type": "code",
   "execution_count": null,
   "metadata": {},
   "outputs": [],
   "source": [
    "plt.scatter(x, y, color=\"blue\", label=\"Data points\")\n",
    "plt.plot(dftestpd, y_pred, color=\"red\")\n",
    "plt.xlabel('Water Saturation')\n",
    "plt.ylabel('Depth')\n",
    "plt.show"
   ]
  },
  {
   "cell_type": "markdown",
   "metadata": {},
   "source": [
    "Calculate R² score"
   ]
  },
  {
   "cell_type": "code",
   "execution_count": null,
   "metadata": {},
   "outputs": [],
   "source": [
    "y_test= model.predict(pd.DataFrame({'x': x}))\n",
    "\n",
    "print(f'R²: {r2_score(y_true=y, y_pred=y_test)}')"
   ]
  }
 ],
 "metadata": {
  "kernelspec": {
   "display_name": "Python 3",
   "language": "python",
   "name": "python3"
  },
  "language_info": {
   "codemirror_mode": {
    "name": "ipython",
    "version": 3
   },
   "file_extension": ".py",
   "mimetype": "text/x-python",
   "name": "python",
   "nbconvert_exporter": "python",
   "pygments_lexer": "ipython3",
   "version": "3.11.7"
  }
 },
 "nbformat": 4,
 "nbformat_minor": 2
}
